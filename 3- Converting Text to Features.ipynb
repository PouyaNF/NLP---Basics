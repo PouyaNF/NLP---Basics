{
 "cells": [
  {
   "cell_type": "markdown",
   "id": "404760d8",
   "metadata": {},
   "source": [
    "# One Hot Encoding"
   ]
  },
  {
   "cell_type": "code",
   "execution_count": 2,
   "id": "4ba0f380",
   "metadata": {},
   "outputs": [],
   "source": [
    "Text = \"I am learning NLP\""
   ]
  },
  {
   "cell_type": "code",
   "execution_count": 8,
   "id": "407f0ab7",
   "metadata": {},
   "outputs": [
    {
     "data": {
      "text/html": [
       "<div>\n",
       "<style scoped>\n",
       "    .dataframe tbody tr th:only-of-type {\n",
       "        vertical-align: middle;\n",
       "    }\n",
       "\n",
       "    .dataframe tbody tr th {\n",
       "        vertical-align: top;\n",
       "    }\n",
       "\n",
       "    .dataframe thead th {\n",
       "        text-align: right;\n",
       "    }\n",
       "</style>\n",
       "<table border=\"1\" class=\"dataframe\">\n",
       "  <thead>\n",
       "    <tr style=\"text-align: right;\">\n",
       "      <th></th>\n",
       "      <th>I</th>\n",
       "      <th>NLP</th>\n",
       "      <th>am</th>\n",
       "      <th>learning</th>\n",
       "    </tr>\n",
       "  </thead>\n",
       "  <tbody>\n",
       "    <tr>\n",
       "      <th>0</th>\n",
       "      <td>1</td>\n",
       "      <td>0</td>\n",
       "      <td>0</td>\n",
       "      <td>0</td>\n",
       "    </tr>\n",
       "    <tr>\n",
       "      <th>1</th>\n",
       "      <td>0</td>\n",
       "      <td>0</td>\n",
       "      <td>1</td>\n",
       "      <td>0</td>\n",
       "    </tr>\n",
       "    <tr>\n",
       "      <th>2</th>\n",
       "      <td>0</td>\n",
       "      <td>0</td>\n",
       "      <td>0</td>\n",
       "      <td>1</td>\n",
       "    </tr>\n",
       "    <tr>\n",
       "      <th>3</th>\n",
       "      <td>0</td>\n",
       "      <td>1</td>\n",
       "      <td>0</td>\n",
       "      <td>0</td>\n",
       "    </tr>\n",
       "  </tbody>\n",
       "</table>\n",
       "</div>"
      ],
      "text/plain": [
       "   I  NLP  am  learning\n",
       "0  1    0   0         0\n",
       "1  0    0   1         0\n",
       "2  0    0   0         1\n",
       "3  0    1   0         0"
      ]
     },
     "execution_count": 8,
     "metadata": {},
     "output_type": "execute_result"
    }
   ],
   "source": [
    "# Below is the function from the pandas library to convert text to feature.\n",
    "# Importing the library\n",
    "import pandas as pd\n",
    "# Generating the features\n",
    "c =pd.get_dummies(Text.split())\n",
    "c"
   ]
  },
  {
   "cell_type": "code",
   "execution_count": 7,
   "id": "a9139001",
   "metadata": {},
   "outputs": [
    {
     "data": {
      "text/plain": [
       "0    0\n",
       "1    0\n",
       "2    0\n",
       "3    1\n",
       "Name: NLP, dtype: uint8"
      ]
     },
     "execution_count": 7,
     "metadata": {},
     "output_type": "execute_result"
    }
   ],
   "source": [
    "c['NLP']"
   ]
  },
  {
   "cell_type": "markdown",
   "id": "bbc3c950",
   "metadata": {},
   "source": [
    "# Converting Text to Features Using Count Vectorizing"
   ]
  },
  {
   "cell_type": "code",
   "execution_count": 10,
   "id": "2f0b0e1c",
   "metadata": {},
   "outputs": [
    {
     "name": "stdout",
     "output_type": "stream",
     "text": [
      "{'love': 4, 'nlp': 5, 'and': 1, 'will': 6, 'learn': 3, 'in': 2, '2month': 0}\n",
      "[[1 1 1 1 1 2 1]]\n"
     ]
    }
   ],
   "source": [
    "from sklearn.feature_extraction.text import CountVectorizer\n",
    "\n",
    "text = [\"I love NLP and I will learn NLP in 2month \"]\n",
    "# create the transform\n",
    "vectorizer = CountVectorizer()\n",
    "# tokenizing\n",
    "vectorizer.fit(text)\n",
    "# encode document\n",
    "vector = vectorizer.transform(text)\n",
    "# summarize & generating output\n",
    "print(vectorizer.vocabulary_)\n",
    "print(vector.toarray())"
   ]
  },
  {
   "cell_type": "markdown",
   "id": "7cdf2e84",
   "metadata": {},
   "source": [
    "# Generating N-grams"
   ]
  },
  {
   "cell_type": "code",
   "execution_count": 12,
   "id": "dc400c14",
   "metadata": {},
   "outputs": [],
   "source": [
    "Text = \"I am learning NLP\""
   ]
  },
  {
   "cell_type": "code",
   "execution_count": 13,
   "id": "aaddeb1a",
   "metadata": {},
   "outputs": [
    {
     "data": {
      "text/plain": [
       "[WordList(['I']), WordList(['am']), WordList(['learning']), WordList(['NLP'])]"
      ]
     },
     "execution_count": 13,
     "metadata": {},
     "output_type": "execute_result"
    }
   ],
   "source": [
    "#Import textblob\n",
    "from textblob import TextBlob\n",
    "#For unigram : Use n = 1\n",
    "TextBlob(Text).ngrams(1)"
   ]
  },
  {
   "cell_type": "code",
   "execution_count": 14,
   "id": "cacfc02c",
   "metadata": {},
   "outputs": [
    {
     "data": {
      "text/plain": [
       "[WordList(['I', 'am']),\n",
       " WordList(['am', 'learning']),\n",
       " WordList(['learning', 'NLP'])]"
      ]
     },
     "execution_count": 14,
     "metadata": {},
     "output_type": "execute_result"
    }
   ],
   "source": [
    "#For Bigram : For bigrams, use n = 2\n",
    "TextBlob(Text).ngrams(2)"
   ]
  },
  {
   "cell_type": "code",
   "execution_count": 25,
   "id": "052c7153",
   "metadata": {},
   "outputs": [
    {
     "data": {
      "text/plain": [
       "array(['and will', 'in 2months', 'learn nlp', 'like nlp', 'nlp and',\n",
       "       'nlp in', 'will learn'], dtype=object)"
      ]
     },
     "execution_count": 25,
     "metadata": {},
     "output_type": "execute_result"
    }
   ],
   "source": [
    "# Bigram-based features for a document\n",
    "from sklearn.feature_extraction.text import CountVectorizer\n",
    "text = [\"I like NLP and I will learn NLP in 2months \"]\n",
    "vectorizer = CountVectorizer(ngram_range=(2,2))\n",
    "# tokenizing\n",
    "vectorizer.fit(text)\n",
    "vector = vectorizer.transform(text)\n",
    "vectorizer.get_feature_names_out()"
   ]
  },
  {
   "cell_type": "code",
   "execution_count": 27,
   "id": "d223cc75",
   "metadata": {},
   "outputs": [
    {
     "name": "stdout",
     "output_type": "stream",
     "text": [
      "{'like nlp': 3, 'nlp and': 4, 'and will': 0, 'will learn': 6, 'learn nlp': 2, 'nlp in': 5, 'in 2months': 1}\n"
     ]
    }
   ],
   "source": [
    "# summarize & generating output\n",
    "print(vectorizer.vocabulary_)\n"
   ]
  },
  {
   "cell_type": "code",
   "execution_count": 28,
   "id": "cbf4f249",
   "metadata": {},
   "outputs": [
    {
     "name": "stdout",
     "output_type": "stream",
     "text": [
      "[[1 1 1 1 1 1 1]]\n"
     ]
    }
   ],
   "source": [
    "print(vector.toarray())"
   ]
  },
  {
   "cell_type": "code",
   "execution_count": 29,
   "id": "f6d2b817",
   "metadata": {},
   "outputs": [
    {
     "data": {
      "text/plain": [
       "array(['and this', 'document is', 'first document', 'is the', 'is this',\n",
       "       'second document', 'the first', 'the second', 'the third',\n",
       "       'third one', 'this document', 'this is', 'this the'], dtype=object)"
      ]
     },
     "execution_count": 29,
     "metadata": {},
     "output_type": "execute_result"
    }
   ],
   "source": [
    "corpus = [\n",
    "     'This is the first document.',\n",
    "     'This document is the second document.',\n",
    "     'And this is the third one.',\n",
    "     'Is this the first document?', ]\n",
    "\n",
    "vectorizer = CountVectorizer(ngram_range=(2,2))\n",
    "# tokenizing\n",
    "vectorizer.fit(corpus)\n",
    "vector = vectorizer.transform(corpus)\n",
    "vectorizer.get_feature_names_out()"
   ]
  },
  {
   "cell_type": "code",
   "execution_count": 30,
   "id": "04015e18",
   "metadata": {},
   "outputs": [
    {
     "name": "stdout",
     "output_type": "stream",
     "text": [
      "[[0 0 1 1 0 0 1 0 0 0 0 1 0]\n",
      " [0 1 0 1 0 1 0 1 0 0 1 0 0]\n",
      " [1 0 0 1 0 0 0 0 1 1 0 1 0]\n",
      " [0 0 1 0 1 0 1 0 0 0 0 0 1]]\n"
     ]
    }
   ],
   "source": [
    "print(vector.toarray())"
   ]
  },
  {
   "cell_type": "markdown",
   "id": "74512a33",
   "metadata": {},
   "source": [
    "# Generating Co-occurrence Matrix"
   ]
  },
  {
   "cell_type": "code",
   "execution_count": 33,
   "id": "a76dfbed",
   "metadata": {},
   "outputs": [],
   "source": [
    "import numpy as np\n",
    "import nltk\n",
    "from nltk import bigrams\n",
    "import itertools"
   ]
  },
  {
   "cell_type": "code",
   "execution_count": 35,
   "id": "217791a6",
   "metadata": {},
   "outputs": [],
   "source": [
    "def co_occurrence_matrix(corpus):\n",
    "    vocab = set(corpus)\n",
    "    vocab = list(vocab)\n",
    "    vocab_to_index = { word:i for i, word in enumerate(vocab) }\n",
    "    # Create bigrams from all words in corpus\n",
    "    bi_grams = list(bigrams(corpus))\n",
    "    # Frequency distribution of bigrams ((word1, word2),num_occurrences)\n",
    "    bigram_freq = nltk.FreqDist(bi_grams).most_common(len(bi_grams))\n",
    "    # Initialise co-occurrence matrix\n",
    "    # co_occurrence_matrix[current][previous]\n",
    "    co_occurrence_matrix = np.zeros((len(vocab), len(vocab)))\n",
    "    # Loop through the bigrams taking the current and previous word,\n",
    "    # and the number of occurrences of the bigram.\n",
    "    for bigram in bigram_freq:\n",
    "        current = bigram[0][1]\n",
    "        previous = bigram[0][0]\n",
    "        count = bigram[1]\n",
    "        pos_current = vocab_to_index[current]\n",
    "        pos_previous = vocab_to_index[previous]\n",
    "        co_occurrence_matrix[pos_current][pos_previous] = count\n",
    "    co_occurrence_matrix = np.matrix(co_occurrence_matrix)\n",
    "    # return the matrix and the index\n",
    "    return co_occurrence_matrix,vocab_to_index"
   ]
  },
  {
   "cell_type": "code",
   "execution_count": 39,
   "id": "974e412f",
   "metadata": {},
   "outputs": [
    {
     "data": {
      "text/plain": [
       "{'And this is the third one.': 0,\n",
       " 'This is the first document.': 1,\n",
       " 'Is this the first document?': 2,\n",
       " 'This document is the second document.': 3}"
      ]
     },
     "execution_count": 39,
     "metadata": {},
     "output_type": "execute_result"
    }
   ],
   "source": [
    "sentences =[['I', 'love', 'nlp'],\n",
    "            ['I', 'love','to' 'learn'],\n",
    "            ['nlp', 'is', 'future'],\n",
    "            ['nlp', 'is', 'cool']]\n",
    "\n",
    "\n",
    "\n",
    "\n"
   ]
  },
  {
   "cell_type": "code",
   "execution_count": 40,
   "id": "b2822ba2",
   "metadata": {},
   "outputs": [
    {
     "data": {
      "text/plain": [
       "['I',\n",
       " 'love',\n",
       " 'nlp',\n",
       " 'I',\n",
       " 'love',\n",
       " 'tolearn',\n",
       " 'nlp',\n",
       " 'is',\n",
       " 'future',\n",
       " 'nlp',\n",
       " 'is',\n",
       " 'cool']"
      ]
     },
     "execution_count": 40,
     "metadata": {},
     "output_type": "execute_result"
    }
   ],
   "source": [
    "# create one list using many lists\n",
    "merged = list(itertools.chain.from_iterable(sentences))\n",
    "merged"
   ]
  },
  {
   "cell_type": "code",
   "execution_count": 42,
   "id": "1ff266bb",
   "metadata": {},
   "outputs": [
    {
     "data": {
      "text/plain": [
       "{'I': 0, 'tolearn': 1, 'is': 2, 'nlp': 3, 'cool': 4, 'love': 5, 'future': 6}"
      ]
     },
     "execution_count": 42,
     "metadata": {},
     "output_type": "execute_result"
    }
   ],
   "source": [
    "vocab = set(merged)\n",
    "vocab = list(vocab)\n",
    "vocab_to_index = { word:i for i, word in enumerate(vocab) }\n",
    "vocab_to_index"
   ]
  },
  {
   "cell_type": "code",
   "execution_count": 43,
   "id": "37cedbcb",
   "metadata": {},
   "outputs": [
    {
     "name": "stdout",
     "output_type": "stream",
     "text": [
      "           I  tolearn   is  nlp  cool  love  future\n",
      "I        0.0      0.0  0.0  1.0   0.0   0.0     0.0\n",
      "tolearn  0.0      0.0  0.0  0.0   0.0   1.0     0.0\n",
      "is       0.0      0.0  0.0  2.0   0.0   0.0     0.0\n",
      "nlp      0.0      1.0  0.0  0.0   0.0   1.0     1.0\n",
      "cool     0.0      0.0  1.0  0.0   0.0   0.0     0.0\n",
      "love     2.0      0.0  0.0  0.0   0.0   0.0     0.0\n",
      "future   0.0      0.0  1.0  0.0   0.0   0.0     0.0\n"
     ]
    }
   ],
   "source": [
    "matrix = co_occurrence_matrix(merged)\n",
    "# generate the matrix\n",
    "CoMatrixFinal = pd.DataFrame(matrix[0], index=vocab_to_index, columns=vocab_to_index)\n",
    "print(CoMatrixFinal)"
   ]
  },
  {
   "cell_type": "markdown",
   "id": "5df94498",
   "metadata": {},
   "source": [
    "# Hash Vectorizing"
   ]
  },
  {
   "cell_type": "code",
   "execution_count": 57,
   "id": "e5c23557",
   "metadata": {},
   "outputs": [],
   "source": [
    "from sklearn.feature_extraction.text import HashingVectorizer\n",
    "# list of text documents\n",
    "text = [\"The quick brown fox jumped over the lazy dog.\"]"
   ]
  },
  {
   "cell_type": "code",
   "execution_count": 59,
   "id": "ecbf02a7",
   "metadata": {},
   "outputs": [
    {
     "name": "stdout",
     "output_type": "stream",
     "text": [
      "{'alternate_sign': True, 'analyzer': 'word', 'binary': False, 'decode_error': 'strict', 'dtype': <class 'numpy.float64'>, 'encoding': 'utf-8', 'input': 'content', 'lowercase': True, 'n_features': 10, 'ngram_range': (1, 1), 'norm': 'l2', 'preprocessor': None, 'stop_words': None, 'strip_accents': None, 'token_pattern': '(?u)\\\\b\\\\w\\\\w+\\\\b', 'tokenizer': None}\n",
      "(1, 10)\n",
      "[[ 0.          0.57735027  0.          0.          0.          0.\n",
      "   0.         -0.57735027 -0.57735027  0.        ]]\n"
     ]
    }
   ],
   "source": [
    "# Let’s create the HashingVectorizer of a vector size of 10.\n",
    "# It created vector of size 10 and now this can be used for any\n",
    "# supervised/unsupervised tasks.\n",
    "\n",
    "# transform\n",
    "vectorizer = HashingVectorizer(n_features=10)\n",
    "# create the hashing vector\n",
    "vector = vectorizer.transform(text)\n",
    "# summarize the vector\n",
    "print(vectorizer.get_params(deep=True))\n",
    "print(vector.shape)\n",
    "print(vector.toarray()) "
   ]
  },
  {
   "cell_type": "code",
   "execution_count": 53,
   "id": "7fc5341c",
   "metadata": {},
   "outputs": [
    {
     "name": "stdout",
     "output_type": "stream",
     "text": [
      "(4, 16)\n"
     ]
    },
    {
     "data": {
      "text/plain": [
       "array([[-0.57735027,  0.        ,  0.        ,  0.        ,  0.        ,\n",
       "         0.        ,  0.        ,  0.        , -0.57735027,  0.        ,\n",
       "         0.        ,  0.        ,  0.        ,  0.57735027,  0.        ,\n",
       "         0.        ],\n",
       "       [-0.81649658,  0.        ,  0.        ,  0.        ,  0.        ,\n",
       "         0.        ,  0.        ,  0.        ,  0.        ,  0.        ,\n",
       "         0.        ,  0.40824829,  0.        ,  0.40824829,  0.        ,\n",
       "         0.        ],\n",
       "       [ 0.        ,  0.        ,  0.        ,  0.        , -0.70710678,\n",
       "         0.70710678,  0.        ,  0.        ,  0.        ,  0.        ,\n",
       "         0.        ,  0.        ,  0.        ,  0.        ,  0.        ,\n",
       "         0.        ],\n",
       "       [-0.57735027,  0.        ,  0.        ,  0.        ,  0.        ,\n",
       "         0.        ,  0.        ,  0.        , -0.57735027,  0.        ,\n",
       "         0.        ,  0.        ,  0.        ,  0.57735027,  0.        ,\n",
       "         0.        ]])"
      ]
     },
     "execution_count": 53,
     "metadata": {},
     "output_type": "execute_result"
    }
   ],
   "source": [
    "from sklearn.feature_extraction.text import HashingVectorizer\n",
    "corpus = [\n",
    "     'This is the first document.',\n",
    "     'This document is the second document.',\n",
    "     'And this is the third one.',\n",
    "     'Is this the first document?',]\n",
    "    \n",
    "vectorizer = HashingVectorizer(n_features=2**4)\n",
    "X = vectorizer.fit_transform(corpus)\n",
    "print(X.shape)\n",
    "X.toarray()\n"
   ]
  },
  {
   "cell_type": "markdown",
   "id": "54b9d5fd",
   "metadata": {},
   "source": [
    "# TF-IDF"
   ]
  },
  {
   "cell_type": "code",
   "execution_count": 60,
   "id": "6384ec92",
   "metadata": {},
   "outputs": [
    {
     "name": "stdout",
     "output_type": "stream",
     "text": [
      "{'the': 7, 'quick': 6, 'brown': 0, 'fox': 2, 'jumped': 3, 'over': 5, 'lazy': 4, 'dog': 1}\n",
      "[1.69314718 1.28768207 1.28768207 1.69314718 1.69314718 1.69314718\n",
      " 1.69314718 1.        ]\n"
     ]
    }
   ],
   "source": [
    "from sklearn.feature_extraction.text import TfidfVectorizer\n",
    "\n",
    "Text = [\"The quick brown fox jumped over the lazy dog.\",\"The dog.\", \"The fox\"]\n",
    "#Create the transform\n",
    "vectorizer = TfidfVectorizer()\n",
    "#Tokenize and build vocab\n",
    "vectorizer.fit(Text)\n",
    "#Summarize\n",
    "print(vectorizer.vocabulary_)\n",
    "print(vectorizer.idf_)"
   ]
  },
  {
   "cell_type": "code",
   "execution_count": null,
   "id": "924ae47f",
   "metadata": {},
   "outputs": [],
   "source": [
    "# If you observe, “the” is appearing in all the 3 documents and it does not add much value,\n",
    "# and hence the vector value is 1, which is less than all the other vector representations of the tokens.\n"
   ]
  },
  {
   "cell_type": "markdown",
   "id": "4a990d03",
   "metadata": {},
   "source": [
    "# word embeddings"
   ]
  },
  {
   "cell_type": "code",
   "execution_count": 130,
   "id": "14278d69",
   "metadata": {},
   "outputs": [],
   "source": [
    "import gensim\n",
    "from gensim.models import Word2Vec\n",
    "from sklearn.decomposition import PCA\n",
    "from matplotlib import pyplot"
   ]
  },
  {
   "cell_type": "code",
   "execution_count": 131,
   "id": "34dc54d6",
   "metadata": {},
   "outputs": [],
   "source": [
    "#Example sentences\n",
    "sentences = [['I', 'love', 'nlp'],\n",
    "            ['I', 'will', 'learn', 'nlp', 'in', '2','months'],\n",
    "            ['nlp', 'is', 'future'],\n",
    "            [ 'nlp', 'saves', 'time', 'and', 'solves','lot', 'of', 'industry', 'problems'],\n",
    "            ['nlp', 'uses', 'machine', 'learning']]"
   ]
  },
  {
   "cell_type": "code",
   "execution_count": 132,
   "id": "f910a560",
   "metadata": {},
   "outputs": [
    {
     "name": "stdout",
     "output_type": "stream",
     "text": [
      "Word2Vec<vocab=21, vector_size=50, alpha=0.025>\n"
     ]
    }
   ],
   "source": [
    "# training the model\n",
    "skipgram = Word2Vec(sentences, vector_size =50, window = 3, min_count=1, sg = 1)\n",
    "print(skipgram)\n"
   ]
  },
  {
   "cell_type": "code",
   "execution_count": 133,
   "id": "7e33da7b",
   "metadata": {},
   "outputs": [
    {
     "name": "stdout",
     "output_type": "stream",
     "text": [
      "[-1.0724545e-03  4.7286271e-04  1.0206699e-02  1.8018546e-02\n",
      " -1.8605899e-02 -1.4233618e-02  1.2917745e-02  1.7945977e-02\n",
      " -1.0030856e-02 -7.5267432e-03  1.4761009e-02 -3.0669428e-03\n",
      " -9.0732267e-03  1.3108104e-02 -9.7203208e-03 -3.6320353e-03\n",
      "  5.7531595e-03  1.9837476e-03 -1.6570430e-02 -1.8897636e-02\n",
      "  1.4623532e-02  1.0140524e-02  1.3515387e-02  1.5257311e-03\n",
      "  1.2701781e-02 -6.8107317e-03 -1.8928028e-03  1.1537147e-02\n",
      " -1.5043275e-02 -7.8722071e-03 -1.5023164e-02 -1.8600845e-03\n",
      "  1.9076237e-02 -1.4638334e-02 -4.6675373e-03 -3.8754821e-03\n",
      "  1.6154874e-02 -1.1861792e-02  9.0324880e-05 -9.5074680e-03\n",
      " -1.9207101e-02  1.0014586e-02 -1.7519170e-02 -8.7836506e-03\n",
      " -7.0199967e-05 -5.9236289e-04 -1.5322480e-02  1.9229487e-02\n",
      "  9.9641159e-03  1.8466286e-02]\n"
     ]
    }
   ],
   "source": [
    "print(skipgram.wv['nlp'] )"
   ]
  },
  {
   "cell_type": "code",
   "execution_count": 134,
   "id": "3f045779",
   "metadata": {},
   "outputs": [
    {
     "data": {
      "text/plain": [
       "<gensim.models.word2vec.Word2Vec at 0x15d84be3d90>"
      ]
     },
     "execution_count": 134,
     "metadata": {},
     "output_type": "execute_result"
    }
   ],
   "source": [
    "# save model\n",
    "skipgram.save('skipgram.bin')\n",
    "# load model\n",
    "skipgram = Word2Vec.load('skipgram.bin')\n",
    "skipgram"
   ]
  },
  {
   "cell_type": "code",
   "execution_count": 104,
   "id": "2c0a7111",
   "metadata": {},
   "outputs": [],
   "source": [
    "#T – SNE plot is one of the ways to evaluate word embeddings. Let’s\n",
    "#generate it and see how it looks. # T – SNE plot"
   ]
  },
  {
   "cell_type": "code",
   "execution_count": 135,
   "id": "f08273ec",
   "metadata": {},
   "outputs": [
    {
     "data": {
      "text/plain": [
       "21"
      ]
     },
     "execution_count": 135,
     "metadata": {},
     "output_type": "execute_result"
    }
   ],
   "source": [
    "len(skipgram.wv)"
   ]
  },
  {
   "cell_type": "code",
   "execution_count": 137,
   "id": "04c9ad95",
   "metadata": {},
   "outputs": [
    {
     "data": {
      "text/plain": [
       "['nlp',\n",
       " 'I',\n",
       " 'future',\n",
       " 'love',\n",
       " 'will',\n",
       " 'learn',\n",
       " 'in',\n",
       " '2',\n",
       " 'months',\n",
       " 'is',\n",
       " 'learning',\n",
       " 'machine',\n",
       " 'time',\n",
       " 'and',\n",
       " 'solves',\n",
       " 'lot',\n",
       " 'of',\n",
       " 'industry',\n",
       " 'problems',\n",
       " 'uses',\n",
       " 'saves']"
      ]
     },
     "execution_count": 137,
     "metadata": {},
     "output_type": "execute_result"
    }
   ],
   "source": [
    "list(skipgram.wv.index_to_key)"
   ]
  },
  {
   "cell_type": "code",
   "execution_count": 140,
   "id": "eab3b656",
   "metadata": {},
   "outputs": [
    {
     "data": {
      "image/png": "[encoded data removed]",
      "text/plain": [
       "<Figure size 432x288 with 1 Axes>"
      ]
     },
     "metadata": {
      "needs_background": "light"
     },
     "output_type": "display_data"
    }
   ],
   "source": [
    "X = skipgram.wv[list(skipgram.wv.index_to_key)]\n",
    "pca = PCA(n_components=2)\n",
    "result = pca.fit_transform(X)\n",
    "\n",
    "# create a scatter plot of the projection\n",
    "pyplot.scatter(result[:, 0], result[:, 1])\n",
    "words = list(skipgram.wv.index_to_key)\n",
    "for i, word in enumerate(words):\n",
    "    pyplot.annotate(word, xy=(result[i, 0], result[i, 1]))\n",
    "pyplot.show()"
   ]
  },
  {
   "cell_type": "code",
   "execution_count": null,
   "id": "3657d9c7",
   "metadata": {},
   "outputs": [],
   "source": [
    "# Import the gensim package and follow the steps to understand Google’s word2vec.\n",
    "\n",
    "\n",
    "# import gensim package\n",
    "import gensim\n",
    "# load the saved model\n",
    "model = gensim.models.Word2Vec.load_word2vec_format('GoogleNews-vectors-negative300.bin', binary=True)\n",
    "#Checking how similarity works.\n",
    "print (model.similarity('this', 'is'))\n",
    "print (model.similarity('post', 'book')) # it uses the vectors of both the words and calculates the similarity between them.\n"
   ]
  },
  {
   "cell_type": "code",
   "execution_count": null,
   "id": "954c165e",
   "metadata": {},
   "outputs": [],
   "source": [
    "# Finding the odd one out.\n",
    "model.doesnt_match('breakfast cereal dinner lunch';.split()) # ‘cereal’, ‘dinner’ and ‘lunch', only cereal is the word that is not anywhere related to the remaining 3 words.\n"
   ]
  },
  {
   "cell_type": "code",
   "execution_count": null,
   "id": "3e5cef84",
   "metadata": {},
   "outputs": [],
   "source": [
    "word_vectors.most_similar(positive=['woman', 'king'], negative=['man'])"
   ]
  },
  {
   "cell_type": "markdown",
   "id": "904b4289",
   "metadata": {},
   "source": [
    "# Implementing fastText"
   ]
  },
  {
   "cell_type": "code",
   "execution_count": 110,
   "id": "2d8044fd",
   "metadata": {},
   "outputs": [],
   "source": [
    "# Import FastText\n",
    "from gensim.models import FastText\n",
    "from sklearn.decomposition import PCA\n",
    "from matplotlib import pyplot\n",
    "#Example sentences\n",
    "sentences = [['I', 'love', 'nlp'],\n",
    "             ['I', 'will', 'learn', 'nlp', 'in', '2','months'],\n",
    "             ['nlp', 'is', 'future'],\n",
    "             [ 'nlp', 'saves', 'time', 'and', 'solves', 'lot', 'of', 'industry', 'problems'],\n",
    "             ['nlp', 'uses', 'machine', 'learning']]"
   ]
  },
  {
   "cell_type": "code",
   "execution_count": 118,
   "id": "f5dd021a",
   "metadata": {},
   "outputs": [],
   "source": [
    "fast = FastText(sentences, vector_size= 20, window=1, min_count=1, workers=5, min_n=1, max_n=2)"
   ]
  },
  {
   "cell_type": "code",
   "execution_count": 119,
   "id": "a865c377",
   "metadata": {},
   "outputs": [
    {
     "name": "stdout",
     "output_type": "stream",
     "text": [
      "[-0.01044169 -0.00166992  0.00851491 -0.00545158 -0.01564237  0.01678065\n",
      "  0.00298395  0.00162992 -0.01518791  0.00655623  0.01039656 -0.00142836\n",
      " -0.01665709  0.00949577  0.00262534 -0.00541661  0.0063507  -0.00105192\n",
      " -0.02014117  0.00102295]\n"
     ]
    }
   ],
   "source": [
    "print(fast.wv['nlp'])"
   ]
  },
  {
   "cell_type": "code",
   "execution_count": 120,
   "id": "37668ba2",
   "metadata": {},
   "outputs": [
    {
     "name": "stdout",
     "output_type": "stream",
     "text": [
      "[-0.00718654 -0.00310375 -0.00214245 -0.00143114 -0.00600196  0.00922425\n",
      "  0.01241926 -0.00713524 -0.00693269 -0.00987075  0.01335533 -0.00810269\n",
      "  0.01761531 -0.00716007 -0.00427308  0.00729467  0.01494505 -0.01626069\n",
      "  0.01229173  0.01455308]\n"
     ]
    }
   ],
   "source": [
    "print(fast.wv['deep']) \n",
    "#  since fastText is building on character level, even for the word that was not\n",
    "# there in training, it will provide results. You can see the vector for the word\n",
    "# “deep,” but it's not present in the input data."
   ]
  },
  {
   "cell_type": "code",
   "execution_count": 125,
   "id": "67dea255",
   "metadata": {},
   "outputs": [
    {
     "data": {
      "text/plain": [
       "['nlp',\n",
       " 'I',\n",
       " 'future',\n",
       " 'love',\n",
       " 'will',\n",
       " 'learn',\n",
       " 'in',\n",
       " '2',\n",
       " 'months',\n",
       " 'is',\n",
       " 'learning',\n",
       " 'machine',\n",
       " 'time',\n",
       " 'and',\n",
       " 'solves',\n",
       " 'lot',\n",
       " 'of',\n",
       " 'industry',\n",
       " 'problems',\n",
       " 'uses',\n",
       " 'saves']"
      ]
     },
     "execution_count": 125,
     "metadata": {},
     "output_type": "execute_result"
    }
   ],
   "source": [
    "list(fast.wv.index_to_key)"
   ]
  },
  {
   "cell_type": "code",
   "execution_count": 127,
   "id": "35772fa9",
   "metadata": {},
   "outputs": [],
   "source": [
    "# load model\n",
    "# fast = Word2Vec.load('fast.bin')\n",
    "# visualize\n",
    "X = fast.wv[list(fast.wv.index_to_key)]\n",
    "pca = PCA(n_components=2)\n",
    "result = pca.fit_transform(X)"
   ]
  },
  {
   "cell_type": "code",
   "execution_count": 129,
   "id": "f76661ab",
   "metadata": {},
   "outputs": [
    {
     "data": {
      "image/png": "[encoded data removed]",
      "text/plain": [
       "<Figure size 432x288 with 1 Axes>"
      ]
     },
     "metadata": {
      "needs_background": "light"
     },
     "output_type": "display_data"
    }
   ],
   "source": [
    "# create a scatter plot of the projection\n",
    "pyplot.scatter(result[:, 0], result[:, 1])\n",
    "words = list(fast.wv.index_to_key)\n",
    "for i, word in enumerate(words):\n",
    "    pyplot.annotate(word, xy=(result[i, 0], result[i, 1]))\n",
    "pyplot.show()"
   ]
  },
  {
   "cell_type": "code",
   "execution_count": null,
   "id": "d7ec1286",
   "metadata": {},
   "outputs": [],
   "source": [
    "# The figure above shows the embedding representation for fastText.\n",
    "# If you observe closely, the words “love” and “solve” are close together in\n",
    "# fastText but in your skip-gram and CBOW, “love” and “learn” are near to\n",
    "# each other. This is an effect of character-level embeddings."
   ]
  },
  {
   "cell_type": "code",
   "execution_count": null,
   "id": "1f9bb1bb",
   "metadata": {},
   "outputs": [],
   "source": []
  }
 ],
 "metadata": {
  "kernelspec": {
   "display_name": "Python 3 (ipykernel)",
   "language": "python",
   "name": "python3"
  },
  "language_info": {
   "codemirror_mode": {
    "name": "ipython",
    "version": 3
   },
   "file_extension": ".py",
   "mimetype": "text/x-python",
   "name": "python",
   "nbconvert_exporter": "python",
   "pygments_lexer": "ipython3",
   "version": "3.9.12"
  },
  "varInspector": {
   "cols": {
    "lenName": 16,
    "lenType": 16,
    "lenVar": 40
   },
   "kernels_config": {
    "python": {
     "delete_cmd_postfix": "",
     "delete_cmd_prefix": "del ",
     "library": "var_list.py",
     "varRefreshCmd": "print(var_dic_list())"
    },
    "r": {
     "delete_cmd_postfix": ") ",
     "delete_cmd_prefix": "rm(",
     "library": "var_list.r",
     "varRefreshCmd": "cat(var_dic_list()) "
    }
   },
   "types_to_exclude": [
    "module",
    "function",
    "builtin_function_or_method",
    "instance",
    "_Feature"
   ],
   "window_display": false
  }
 },
 "nbformat": 4,
 "nbformat_minor": 5
}
